{
 "cells": [
  {
   "cell_type": "code",
   "execution_count": 3,
   "id": "0e0eda95",
   "metadata": {},
   "outputs": [],
   "source": [
    "import sys\n",
    "import os\n",
    "sys.path.append(os.path.abspath(os.path.join(os.getcwd(), '..')))\n",
    "import pandas as pd\n",
    "\n",
    "import matplotlib.pyplot as plt\n",
    "import seaborn as sns\n",
    "import warnings\n",
    "warnings.filterwarnings(\"ignore\", category=UserWarning)\n",
    "warnings.filterwarnings(\"ignore\", category=FutureWarning)\n",
    "\n",
    "%load_ext autoreload\n",
    "%autoreload 2"
   ]
  },
  {
   "cell_type": "code",
   "execution_count": 4,
   "id": "f7e546a3",
   "metadata": {},
   "outputs": [
    {
     "data": {
      "text/html": [
       "<div>\n",
       "<style scoped>\n",
       "    .dataframe tbody tr th:only-of-type {\n",
       "        vertical-align: middle;\n",
       "    }\n",
       "\n",
       "    .dataframe tbody tr th {\n",
       "        vertical-align: top;\n",
       "    }\n",
       "\n",
       "    .dataframe thead th {\n",
       "        text-align: right;\n",
       "    }\n",
       "</style>\n",
       "<table border=\"1\" class=\"dataframe\">\n",
       "  <thead>\n",
       "    <tr style=\"text-align: right;\">\n",
       "      <th></th>\n",
       "      <th>date</th>\n",
       "      <th>circle</th>\n",
       "      <th>type_of_connection</th>\n",
       "      <th>service_provider</th>\n",
       "      <th>value</th>\n",
       "      <th>total_circle_subscriber</th>\n",
       "      <th>market_share</th>\n",
       "      <th>num_competitors</th>\n",
       "      <th>subscriber_change</th>\n",
       "      <th>month_num</th>\n",
       "      <th>quarter</th>\n",
       "      <th>subscribers_ma_3</th>\n",
       "      <th>subscribers_ma_6</th>\n",
       "      <th>subscribers_ma_12</th>\n",
       "    </tr>\n",
       "  </thead>\n",
       "  <tbody>\n",
       "    <tr>\n",
       "      <th>0</th>\n",
       "      <td>2009-01-01</td>\n",
       "      <td>All India</td>\n",
       "      <td>wireless</td>\n",
       "      <td>AIRCEL</td>\n",
       "      <td>16761397.0</td>\n",
       "      <td>400045117.0</td>\n",
       "      <td>0.041899</td>\n",
       "      <td>15</td>\n",
       "      <td>NaN</td>\n",
       "      <td>1</td>\n",
       "      <td>1</td>\n",
       "      <td>1.676140e+07</td>\n",
       "      <td>1.676140e+07</td>\n",
       "      <td>1.676140e+07</td>\n",
       "    </tr>\n",
       "    <tr>\n",
       "      <th>1</th>\n",
       "      <td>2009-02-01</td>\n",
       "      <td>All India</td>\n",
       "      <td>wireless</td>\n",
       "      <td>AIRCEL</td>\n",
       "      <td>17099390.0</td>\n",
       "      <td>413466301.0</td>\n",
       "      <td>0.041356</td>\n",
       "      <td>15</td>\n",
       "      <td>0.020165</td>\n",
       "      <td>2</td>\n",
       "      <td>1</td>\n",
       "      <td>1.693039e+07</td>\n",
       "      <td>1.693039e+07</td>\n",
       "      <td>1.693039e+07</td>\n",
       "    </tr>\n",
       "    <tr>\n",
       "      <th>2</th>\n",
       "      <td>2009-03-01</td>\n",
       "      <td>All India</td>\n",
       "      <td>wireless</td>\n",
       "      <td>AIRCEL</td>\n",
       "      <td>18478325.0</td>\n",
       "      <td>429725181.0</td>\n",
       "      <td>0.043000</td>\n",
       "      <td>15</td>\n",
       "      <td>0.080642</td>\n",
       "      <td>3</td>\n",
       "      <td>1</td>\n",
       "      <td>1.744637e+07</td>\n",
       "      <td>1.744637e+07</td>\n",
       "      <td>1.744637e+07</td>\n",
       "    </tr>\n",
       "    <tr>\n",
       "      <th>3</th>\n",
       "      <td>2009-04-01</td>\n",
       "      <td>All India</td>\n",
       "      <td>wireless</td>\n",
       "      <td>AIRCEL</td>\n",
       "      <td>19585299.0</td>\n",
       "      <td>441475184.0</td>\n",
       "      <td>0.044363</td>\n",
       "      <td>16</td>\n",
       "      <td>0.059907</td>\n",
       "      <td>4</td>\n",
       "      <td>2</td>\n",
       "      <td>1.838767e+07</td>\n",
       "      <td>1.798110e+07</td>\n",
       "      <td>1.798110e+07</td>\n",
       "    </tr>\n",
       "    <tr>\n",
       "      <th>4</th>\n",
       "      <td>2009-05-01</td>\n",
       "      <td>All India</td>\n",
       "      <td>wireless</td>\n",
       "      <td>AIRCEL</td>\n",
       "      <td>20685711.0</td>\n",
       "      <td>452911165.0</td>\n",
       "      <td>0.045673</td>\n",
       "      <td>16</td>\n",
       "      <td>0.056186</td>\n",
       "      <td>5</td>\n",
       "      <td>2</td>\n",
       "      <td>1.958311e+07</td>\n",
       "      <td>1.852202e+07</td>\n",
       "      <td>1.852202e+07</td>\n",
       "    </tr>\n",
       "    <tr>\n",
       "      <th>5</th>\n",
       "      <td>2009-06-01</td>\n",
       "      <td>All India</td>\n",
       "      <td>wireless</td>\n",
       "      <td>AIRCEL</td>\n",
       "      <td>21798731.0</td>\n",
       "      <td>464825338.0</td>\n",
       "      <td>0.046897</td>\n",
       "      <td>16</td>\n",
       "      <td>0.053806</td>\n",
       "      <td>6</td>\n",
       "      <td>2</td>\n",
       "      <td>2.068991e+07</td>\n",
       "      <td>1.906814e+07</td>\n",
       "      <td>1.906814e+07</td>\n",
       "    </tr>\n",
       "    <tr>\n",
       "      <th>6</th>\n",
       "      <td>2009-07-01</td>\n",
       "      <td>All India</td>\n",
       "      <td>wireless</td>\n",
       "      <td>AIRCEL</td>\n",
       "      <td>23101900.0</td>\n",
       "      <td>479070905.0</td>\n",
       "      <td>0.048222</td>\n",
       "      <td>16</td>\n",
       "      <td>0.059782</td>\n",
       "      <td>7</td>\n",
       "      <td>3</td>\n",
       "      <td>2.186211e+07</td>\n",
       "      <td>2.012489e+07</td>\n",
       "      <td>1.964439e+07</td>\n",
       "    </tr>\n",
       "    <tr>\n",
       "      <th>7</th>\n",
       "      <td>2009-08-01</td>\n",
       "      <td>All India</td>\n",
       "      <td>wireless</td>\n",
       "      <td>AIRCEL</td>\n",
       "      <td>24415514.0</td>\n",
       "      <td>494069898.0</td>\n",
       "      <td>0.049417</td>\n",
       "      <td>15</td>\n",
       "      <td>0.056862</td>\n",
       "      <td>8</td>\n",
       "      <td>3</td>\n",
       "      <td>2.310538e+07</td>\n",
       "      <td>2.134425e+07</td>\n",
       "      <td>2.024078e+07</td>\n",
       "    </tr>\n",
       "    <tr>\n",
       "      <th>8</th>\n",
       "      <td>2009-09-01</td>\n",
       "      <td>All India</td>\n",
       "      <td>wireless</td>\n",
       "      <td>AIRCEL</td>\n",
       "      <td>25728633.0</td>\n",
       "      <td>509032539.0</td>\n",
       "      <td>0.050544</td>\n",
       "      <td>15</td>\n",
       "      <td>0.053782</td>\n",
       "      <td>9</td>\n",
       "      <td>3</td>\n",
       "      <td>2.441535e+07</td>\n",
       "      <td>2.255263e+07</td>\n",
       "      <td>2.085054e+07</td>\n",
       "    </tr>\n",
       "    <tr>\n",
       "      <th>9</th>\n",
       "      <td>2009-10-01</td>\n",
       "      <td>All India</td>\n",
       "      <td>wireless</td>\n",
       "      <td>AIRCEL</td>\n",
       "      <td>27746797.0</td>\n",
       "      <td>525650418.0</td>\n",
       "      <td>0.052786</td>\n",
       "      <td>15</td>\n",
       "      <td>0.078440</td>\n",
       "      <td>10</td>\n",
       "      <td>4</td>\n",
       "      <td>2.596365e+07</td>\n",
       "      <td>2.391288e+07</td>\n",
       "      <td>2.154017e+07</td>\n",
       "    </tr>\n",
       "  </tbody>\n",
       "</table>\n",
       "</div>"
      ],
      "text/plain": [
       "         date     circle type_of_connection service_provider       value  \\\n",
       "0  2009-01-01  All India           wireless           AIRCEL  16761397.0   \n",
       "1  2009-02-01  All India           wireless           AIRCEL  17099390.0   \n",
       "2  2009-03-01  All India           wireless           AIRCEL  18478325.0   \n",
       "3  2009-04-01  All India           wireless           AIRCEL  19585299.0   \n",
       "4  2009-05-01  All India           wireless           AIRCEL  20685711.0   \n",
       "5  2009-06-01  All India           wireless           AIRCEL  21798731.0   \n",
       "6  2009-07-01  All India           wireless           AIRCEL  23101900.0   \n",
       "7  2009-08-01  All India           wireless           AIRCEL  24415514.0   \n",
       "8  2009-09-01  All India           wireless           AIRCEL  25728633.0   \n",
       "9  2009-10-01  All India           wireless           AIRCEL  27746797.0   \n",
       "\n",
       "   total_circle_subscriber  market_share  num_competitors  subscriber_change  \\\n",
       "0              400045117.0      0.041899               15                NaN   \n",
       "1              413466301.0      0.041356               15           0.020165   \n",
       "2              429725181.0      0.043000               15           0.080642   \n",
       "3              441475184.0      0.044363               16           0.059907   \n",
       "4              452911165.0      0.045673               16           0.056186   \n",
       "5              464825338.0      0.046897               16           0.053806   \n",
       "6              479070905.0      0.048222               16           0.059782   \n",
       "7              494069898.0      0.049417               15           0.056862   \n",
       "8              509032539.0      0.050544               15           0.053782   \n",
       "9              525650418.0      0.052786               15           0.078440   \n",
       "\n",
       "   month_num  quarter  subscribers_ma_3  subscribers_ma_6  subscribers_ma_12  \n",
       "0          1        1      1.676140e+07      1.676140e+07       1.676140e+07  \n",
       "1          2        1      1.693039e+07      1.693039e+07       1.693039e+07  \n",
       "2          3        1      1.744637e+07      1.744637e+07       1.744637e+07  \n",
       "3          4        2      1.838767e+07      1.798110e+07       1.798110e+07  \n",
       "4          5        2      1.958311e+07      1.852202e+07       1.852202e+07  \n",
       "5          6        2      2.068991e+07      1.906814e+07       1.906814e+07  \n",
       "6          7        3      2.186211e+07      2.012489e+07       1.964439e+07  \n",
       "7          8        3      2.310538e+07      2.134425e+07       2.024078e+07  \n",
       "8          9        3      2.441535e+07      2.255263e+07       2.085054e+07  \n",
       "9         10        4      2.596365e+07      2.391288e+07       2.154017e+07  "
      ]
     },
     "execution_count": 4,
     "metadata": {},
     "output_type": "execute_result"
    }
   ],
   "source": [
    "df_temporal = pd.read_csv('../data/interim/telecom_market_temporal_patterns.csv')\n",
    "df_temporal.head(10)"
   ]
  },
  {
   "cell_type": "code",
   "execution_count": 5,
   "id": "1c7036b6",
   "metadata": {},
   "outputs": [
    {
     "name": "stdout",
     "output_type": "stream",
     "text": [
      "<class 'pandas.core.frame.DataFrame'>\n",
      "RangeIndex: 64900 entries, 0 to 64899\n",
      "Data columns (total 14 columns):\n",
      " #   Column                   Non-Null Count  Dtype  \n",
      "---  ------                   --------------  -----  \n",
      " 0   date                     64900 non-null  object \n",
      " 1   circle                   64900 non-null  object \n",
      " 2   type_of_connection       64900 non-null  object \n",
      " 3   service_provider         64900 non-null  object \n",
      " 4   value                    64900 non-null  float64\n",
      " 5   total_circle_subscriber  64900 non-null  float64\n",
      " 6   market_share             64900 non-null  float64\n",
      " 7   num_competitors          64900 non-null  int64  \n",
      " 8   subscriber_change        63999 non-null  float64\n",
      " 9   month_num                64900 non-null  int64  \n",
      " 10  quarter                  64900 non-null  int64  \n",
      " 11  subscribers_ma_3         64900 non-null  float64\n",
      " 12  subscribers_ma_6         64900 non-null  float64\n",
      " 13  subscribers_ma_12        64900 non-null  float64\n",
      "dtypes: float64(7), int64(3), object(4)\n",
      "memory usage: 6.9+ MB\n"
     ]
    }
   ],
   "source": [
    "df_temporal.info()"
   ]
  },
  {
   "cell_type": "code",
   "execution_count": 6,
   "id": "86bdf91e",
   "metadata": {},
   "outputs": [
    {
     "name": "stdout",
     "output_type": "stream",
     "text": [
      "Churn distribution:\n",
      "churn_severity\n",
      "None      49303\n",
      "High      13538\n",
      "Low        1511\n",
      "Medium      548\n",
      "Name: count, dtype: int64\n"
     ]
    }
   ],
   "source": [
    "from src.feature_engineering import create_churn_targets, validate_churn_patterns\n",
    "df_with_targets = create_churn_targets(df_temporal)\n",
    "print(f\"Churn distribution:\\n{df_with_targets['churn_severity'].value_counts()}\")"
   ]
  },
  {
   "cell_type": "code",
   "execution_count": 7,
   "id": "343ea0ec",
   "metadata": {},
   "outputs": [
    {
     "name": "stdout",
     "output_type": "stream",
     "text": [
      "Churn rates by operator category:\n",
      "operator_category\n",
      "Major       0.316708\n",
      "Regional    0.148934\n",
      "Name: churn_binary, dtype: float64\n",
      "Top 10 circles by churn rate:\n",
      "circle\n",
      "Tamil Nadu              0.266385\n",
      "All India               0.251294\n",
      "Rajasthan               0.251004\n",
      "Punjab                  0.240416\n",
      "Delhi                   0.236003\n",
      "Gujarat                 0.229102\n",
      "Mumbai                  0.228974\n",
      "Andhra Pradesh          0.226888\n",
      "Karnataka               0.226865\n",
      "Uttar Pradesh (West)    0.226120\n",
      "Name: churn_binary, dtype: float64\n"
     ]
    }
   ],
   "source": [
    "df_validated = validate_churn_patterns(df_with_targets)"
   ]
  },
  {
   "cell_type": "code",
   "execution_count": 8,
   "id": "d454f5b5",
   "metadata": {},
   "outputs": [
    {
     "name": "stdout",
     "output_type": "stream",
     "text": [
      "Temporal features created. New shape: (64900, 27)\n"
     ]
    }
   ],
   "source": [
    "from src.feature_engineering import create_temporal_features, create_advanced_features, create_business_features, create_competitive_features\n",
    "df_temporal_features = create_temporal_features(df_validated)\n",
    "print(f\"Temporal features created. New shape: {df_temporal_features.shape}\")"
   ]
  },
  {
   "cell_type": "code",
   "execution_count": 9,
   "id": "d093d5e3",
   "metadata": {},
   "outputs": [
    {
     "name": "stdout",
     "output_type": "stream",
     "text": [
      "Advanced features created. New shape: (64900, 31)\n"
     ]
    }
   ],
   "source": [
    "df_final_features = create_advanced_features(df_temporal_features)\n",
    "print(f\"Advanced features created. New shape: {df_final_features.shape}\")"
   ]
  },
  {
   "cell_type": "code",
   "execution_count": 10,
   "id": "5413ae22",
   "metadata": {},
   "outputs": [
    {
     "name": "stdout",
     "output_type": "stream",
     "text": [
      "Competitive features created. New shape: (64900, 34)\n"
     ]
    }
   ],
   "source": [
    "df_competitive_features = create_competitive_features(df_final_features)\n",
    "print(f\"Competitive features created. New shape: {df_competitive_features.shape}\")"
   ]
  },
  {
   "cell_type": "code",
   "execution_count": 11,
   "id": "6c67c062",
   "metadata": {},
   "outputs": [
    {
     "name": "stdout",
     "output_type": "stream",
     "text": [
      "All features created. Final shape: (64900, 38)\n"
     ]
    }
   ],
   "source": [
    "df_all_features = create_business_features(df_competitive_features)\n",
    "print(f\"All features created. Final shape: {df_all_features.shape}\")"
   ]
  },
  {
   "cell_type": "code",
   "execution_count": 12,
   "id": "4b9f42f8",
   "metadata": {},
   "outputs": [],
   "source": [
    "df_all_features.to_csv('../data/final/telecom_churn_features.csv', index=False)"
   ]
  },
  {
   "cell_type": "code",
   "execution_count": 13,
   "id": "69df2e1a",
   "metadata": {},
   "outputs": [
    {
     "data": {
      "text/plain": [
       "['date',\n",
       " 'circle',\n",
       " 'type_of_connection',\n",
       " 'service_provider',\n",
       " 'value',\n",
       " 'total_circle_subscriber',\n",
       " 'market_share',\n",
       " 'num_competitors',\n",
       " 'subscriber_change',\n",
       " 'month_num',\n",
       " 'quarter',\n",
       " 'subscribers_ma_3',\n",
       " 'subscribers_ma_6',\n",
       " 'subscribers_ma_12',\n",
       " 'churn_binary',\n",
       " 'churn_severity',\n",
       " 'operator_category',\n",
       " 'subscribers_lag_1',\n",
       " 'subscribers_lag_3',\n",
       " 'subscribers_lag_6',\n",
       " 'subscribers_lag_12',\n",
       " 'mom_growth',\n",
       " 'yoy_growth',\n",
       " 'growth_volatility_3',\n",
       " 'growth_volatility_6',\n",
       " 'growth_volatility_12',\n",
       " 'trend_12m',\n",
       " 'growth_momentum',\n",
       " 'growth_acceleration',\n",
       " 'seasonal_factor',\n",
       " 'seasonally_adjusted_value',\n",
       " 'market_rank',\n",
       " 'share_gap_leader',\n",
       " 'relative_performance',\n",
       " 'circle_type',\n",
       " 'is_wireless',\n",
       " 'market_size_category',\n",
       " 'operator_geographic_diversity']"
      ]
     },
     "execution_count": 13,
     "metadata": {},
     "output_type": "execute_result"
    }
   ],
   "source": [
    "df_all_features.columns.tolist()"
   ]
  },
  {
   "cell_type": "code",
   "execution_count": 14,
   "id": "7e295b10",
   "metadata": {},
   "outputs": [
    {
     "data": {
      "text/plain": [
       "operator_category\n",
       "Regional    38554\n",
       "Major       26346\n",
       "Name: count, dtype: int64"
      ]
     },
     "execution_count": 14,
     "metadata": {},
     "output_type": "execute_result"
    }
   ],
   "source": [
    "df_all_features['operator_category'].value_counts()"
   ]
  },
  {
   "cell_type": "code",
   "execution_count": 16,
   "id": "4344e1d6",
   "metadata": {},
   "outputs": [
    {
     "data": {
      "text/plain": [
       "0    2009-01-01\n",
       "1    2009-02-01\n",
       "2    2009-03-01\n",
       "3    2009-04-01\n",
       "4    2009-05-01\n",
       "Name: date, dtype: object"
      ]
     },
     "execution_count": 16,
     "metadata": {},
     "output_type": "execute_result"
    }
   ],
   "source": [
    "df_all_features['date'].head()"
   ]
  },
  {
   "cell_type": "code",
   "execution_count": null,
   "id": "6946e32b",
   "metadata": {},
   "outputs": [],
   "source": []
  }
 ],
 "metadata": {
  "kernelspec": {
   "display_name": "Python 3",
   "language": "python",
   "name": "python3"
  },
  "language_info": {
   "codemirror_mode": {
    "name": "ipython",
    "version": 3
   },
   "file_extension": ".py",
   "mimetype": "text/x-python",
   "name": "python",
   "nbconvert_exporter": "python",
   "pygments_lexer": "ipython3",
   "version": "3.13.0"
  }
 },
 "nbformat": 4,
 "nbformat_minor": 5
}
