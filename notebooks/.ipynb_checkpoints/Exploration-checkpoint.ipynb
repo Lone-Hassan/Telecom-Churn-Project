{
 "cells": [
  {
   "cell_type": "code",
   "execution_count": 1,
   "id": "9cfb561a",
   "metadata": {},
   "outputs": [
    {
     "ename": "ModuleNotFoundError",
     "evalue": "No module named 'src'",
     "output_type": "error",
     "traceback": [
      "\u001b[31m---------------------------------------------------------------------------\u001b[39m",
      "\u001b[31mModuleNotFoundError\u001b[39m                       Traceback (most recent call last)",
      "\u001b[36mCell\u001b[39m\u001b[36m \u001b[39m\u001b[32mIn[1]\u001b[39m\u001b[32m, line 3\u001b[39m\n\u001b[32m      1\u001b[39m \u001b[38;5;28;01mimport\u001b[39;00m\u001b[38;5;250m \u001b[39m\u001b[34;01mpandas\u001b[39;00m\u001b[38;5;250m \u001b[39m\u001b[38;5;28;01mas\u001b[39;00m\u001b[38;5;250m \u001b[39m\u001b[34;01mpd\u001b[39;00m\n\u001b[32m      2\u001b[39m \u001b[38;5;28;01mimport\u001b[39;00m\u001b[38;5;250m \u001b[39m\u001b[34;01mnumpy\u001b[39;00m\u001b[38;5;250m \u001b[39m\u001b[38;5;28;01mas\u001b[39;00m\u001b[38;5;250m \u001b[39m\u001b[34;01mnp\u001b[39;00m\n\u001b[32m----> \u001b[39m\u001b[32m3\u001b[39m \u001b[38;5;28;01mfrom\u001b[39;00m\u001b[38;5;250m \u001b[39m\u001b[34;01msrc\u001b[39;00m\u001b[34;01m.\u001b[39;00m\u001b[34;01mdata_preprocessing\u001b[39;00m\u001b[38;5;250m \u001b[39m\u001b[38;5;28;01mimport\u001b[39;00m data_assessment\n",
      "\u001b[31mModuleNotFoundError\u001b[39m: No module named 'src'"
     ]
    }
   ],
   "source": [
    "import pandas as pd\n",
    "import numpy as np\n",
    "from src.data_preprocessing import data_assessment"
   ]
  },
  {
   "cell_type": "markdown",
   "id": "b88d2be0",
   "metadata": {},
   "source": [
    "# Initial data Access and Assessment"
   ]
  },
  {
   "cell_type": "code",
   "execution_count": 1,
   "id": "de3d7a3d",
   "metadata": {},
   "outputs": [
    {
     "ename": "NameError",
     "evalue": "name 'pd' is not defined",
     "output_type": "error",
     "traceback": [
      "\u001b[31m---------------------------------------------------------------------------\u001b[39m",
      "\u001b[31mNameError\u001b[39m                                 Traceback (most recent call last)",
      "\u001b[36mCell\u001b[39m\u001b[36m \u001b[39m\u001b[32mIn[1]\u001b[39m\u001b[32m, line 2\u001b[39m\n\u001b[32m      1\u001b[39m filepath = \u001b[33m'\u001b[39m\u001b[33m../data/raw/telecom_market_data.csv\u001b[39m\u001b[33m'\u001b[39m\n\u001b[32m----> \u001b[39m\u001b[32m2\u001b[39m df = \u001b[43mpd\u001b[49m.read_csv(filepath,dtype={\u001b[32m5\u001b[39m: \u001b[38;5;28mstr\u001b[39m})\n\u001b[32m      3\u001b[39m df.head()\n",
      "\u001b[31mNameError\u001b[39m: name 'pd' is not defined"
     ]
    }
   ],
   "source": [
    "filepath = '../data/raw/telecom_market_data.csv'\n",
    "df = pd.read_csv(filepath,dtype={5: str})\n",
    "df.head()"
   ]
  },
  {
   "cell_type": "markdown",
   "id": "af403ee2",
   "metadata": {},
   "source": [
    "## Initial Data Assessment"
   ]
  },
  {
   "cell_type": "code",
   "execution_count": null,
   "id": "3d971ab0",
   "metadata": {},
   "outputs": [
    {
     "data": {
      "text/html": [
       "<div>\n",
       "<style scoped>\n",
       "    .dataframe tbody tr th:only-of-type {\n",
       "        vertical-align: middle;\n",
       "    }\n",
       "\n",
       "    .dataframe tbody tr th {\n",
       "        vertical-align: top;\n",
       "    }\n",
       "\n",
       "    .dataframe thead th {\n",
       "        text-align: right;\n",
       "    }\n",
       "</style>\n",
       "<table border=\"1\" class=\"dataframe\">\n",
       "  <thead>\n",
       "    <tr style=\"text-align: right;\">\n",
       "      <th></th>\n",
       "      <th>Column</th>\n",
       "      <th>Data Type</th>\n",
       "      <th>Non-Null Count</th>\n",
       "      <th>Null Count</th>\n",
       "      <th>Unique Values</th>\n",
       "      <th>outliers</th>\n",
       "      <th>Sample Values</th>\n",
       "    </tr>\n",
       "  </thead>\n",
       "  <tbody>\n",
       "    <tr>\n",
       "      <th>0</th>\n",
       "      <td>year</td>\n",
       "      <td>int64</td>\n",
       "      <td>70728</td>\n",
       "      <td>0</td>\n",
       "      <td>17</td>\n",
       "      <td>0</td>\n",
       "      <td>[2025, 2024, 2023, 2022, 2021]</td>\n",
       "    </tr>\n",
       "    <tr>\n",
       "      <th>1</th>\n",
       "      <td>month</td>\n",
       "      <td>object</td>\n",
       "      <td>70728</td>\n",
       "      <td>0</td>\n",
       "      <td>12</td>\n",
       "      <td>N/A</td>\n",
       "      <td>[April, March, February, January, December]</td>\n",
       "    </tr>\n",
       "    <tr>\n",
       "      <th>2</th>\n",
       "      <td>circle</td>\n",
       "      <td>object</td>\n",
       "      <td>70728</td>\n",
       "      <td>0</td>\n",
       "      <td>38</td>\n",
       "      <td>N/A</td>\n",
       "      <td>[Andhra Pradesh, Assam, Bihar, Delhi, Gujarat]</td>\n",
       "    </tr>\n",
       "    <tr>\n",
       "      <th>3</th>\n",
       "      <td>type_of_connection</td>\n",
       "      <td>object</td>\n",
       "      <td>70728</td>\n",
       "      <td>0</td>\n",
       "      <td>2</td>\n",
       "      <td>N/A</td>\n",
       "      <td>[wireless, wireline]</td>\n",
       "    </tr>\n",
       "    <tr>\n",
       "      <th>4</th>\n",
       "      <td>service_provider</td>\n",
       "      <td>object</td>\n",
       "      <td>70728</td>\n",
       "      <td>0</td>\n",
       "      <td>42</td>\n",
       "      <td>N/A</td>\n",
       "      <td>[Bharti Airtel (Including Tata Tele.), Relianc...</td>\n",
       "    </tr>\n",
       "    <tr>\n",
       "      <th>5</th>\n",
       "      <td>value</td>\n",
       "      <td>object</td>\n",
       "      <td>58396</td>\n",
       "      <td>12332</td>\n",
       "      <td>47175</td>\n",
       "      <td>N/A</td>\n",
       "      <td>[33965795, 12314102, 40967773, 18877637, 12401...</td>\n",
       "    </tr>\n",
       "    <tr>\n",
       "      <th>6</th>\n",
       "      <td>unit</td>\n",
       "      <td>object</td>\n",
       "      <td>70728</td>\n",
       "      <td>0</td>\n",
       "      <td>1</td>\n",
       "      <td>N/A</td>\n",
       "      <td>[value in absolute number]</td>\n",
       "    </tr>\n",
       "    <tr>\n",
       "      <th>7</th>\n",
       "      <td>notes</td>\n",
       "      <td>object</td>\n",
       "      <td>511</td>\n",
       "      <td>70217</td>\n",
       "      <td>69</td>\n",
       "      <td>N/A</td>\n",
       "      <td>[service_provider: License of M/s Loop Mobile ...</td>\n",
       "    </tr>\n",
       "  </tbody>\n",
       "</table>\n",
       "</div>"
      ],
      "text/plain": [
       "               Column Data Type  Non-Null Count  Null Count  Unique Values  \\\n",
       "0                year     int64           70728           0             17   \n",
       "1               month    object           70728           0             12   \n",
       "2              circle    object           70728           0             38   \n",
       "3  type_of_connection    object           70728           0              2   \n",
       "4    service_provider    object           70728           0             42   \n",
       "5               value    object           58396       12332          47175   \n",
       "6                unit    object           70728           0              1   \n",
       "7               notes    object             511       70217             69   \n",
       "\n",
       "  outliers                                      Sample Values  \n",
       "0        0                     [2025, 2024, 2023, 2022, 2021]  \n",
       "1      N/A        [April, March, February, January, December]  \n",
       "2      N/A     [Andhra Pradesh, Assam, Bihar, Delhi, Gujarat]  \n",
       "3      N/A                               [wireless, wireline]  \n",
       "4      N/A  [Bharti Airtel (Including Tata Tele.), Relianc...  \n",
       "5      N/A  [33965795, 12314102, 40967773, 18877637, 12401...  \n",
       "6      N/A                         [value in absolute number]  \n",
       "7      N/A  [service_provider: License of M/s Loop Mobile ...  "
      ]
     },
     "execution_count": 16,
     "metadata": {},
     "output_type": "execute_result"
    }
   ],
   "source": [
    "\n",
    "initial_assessment_report = data_assessment(df)\n",
    "initial_assessment_report\n"
   ]
  },
  {
   "cell_type": "code",
   "execution_count": null,
   "id": "414ba171",
   "metadata": {},
   "outputs": [],
   "source": []
  }
 ],
 "metadata": {
  "kernelspec": {
   "display_name": "Python 3 (ipykernel)",
   "language": "python",
   "name": "python3"
  },
  "language_info": {
   "codemirror_mode": {
    "name": "ipython",
    "version": 3
   },
   "file_extension": ".py",
   "mimetype": "text/x-python",
   "name": "python",
   "nbconvert_exporter": "python",
   "pygments_lexer": "ipython3",
   "version": "3.13.0"
  }
 },
 "nbformat": 4,
 "nbformat_minor": 5
}
