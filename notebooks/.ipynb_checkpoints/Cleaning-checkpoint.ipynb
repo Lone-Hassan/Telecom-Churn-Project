{
 "cells": [
  {
   "cell_type": "code",
   "execution_count": 4,
   "id": "e4024922",
   "metadata": {},
   "outputs": [],
   "source": [
    "\n",
    "from src.data_preprocessing import clean_telecom_data, data_assessment\n"
   ]
  },
  {
   "cell_type": "code",
   "execution_count": 3,
   "id": "96349b68",
   "metadata": {},
   "outputs": [
    {
     "ename": "NameError",
     "evalue": "name 'df' is not defined",
     "output_type": "error",
     "traceback": [
      "\u001b[31m---------------------------------------------------------------------------\u001b[39m",
      "\u001b[31mNameError\u001b[39m                                 Traceback (most recent call last)",
      "\u001b[36mCell\u001b[39m\u001b[36m \u001b[39m\u001b[32mIn[3]\u001b[39m\u001b[32m, line 1\u001b[39m\n\u001b[32m----> \u001b[39m\u001b[32m1\u001b[39m df_clean = clean_telecom_data(\u001b[43mdf\u001b[49m.copy())\n\u001b[32m      2\u001b[39m \u001b[38;5;28mprint\u001b[39m(initial_data_assessment(df_clean))\n\u001b[32m      3\u001b[39m df_clean.head(\u001b[32m5\u001b[39m)\n",
      "\u001b[31mNameError\u001b[39m: name 'df' is not defined"
     ]
    }
   ],
   "source": [
    "df_clean = clean_telecom_data(df.copy())\n",
    "print(initial_data_assessment(df_clean))\n",
    "df_clean.head(5)"
   ]
  },
  {
   "cell_type": "code",
   "execution_count": null,
   "id": "6a6486a1",
   "metadata": {},
   "outputs": [],
   "source": []
  }
 ],
 "metadata": {
  "kernelspec": {
   "display_name": "Python 3",
   "language": "python",
   "name": "python3"
  },
  "language_info": {
   "codemirror_mode": {
    "name": "ipython",
    "version": 3
   },
   "file_extension": ".py",
   "mimetype": "text/x-python",
   "name": "python",
   "nbconvert_exporter": "python",
   "pygments_lexer": "ipython3",
   "version": "3.13.0"
  }
 },
 "nbformat": 4,
 "nbformat_minor": 5
}
