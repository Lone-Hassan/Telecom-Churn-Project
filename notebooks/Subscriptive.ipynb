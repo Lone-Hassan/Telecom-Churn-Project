{
 "cells": [
  {
   "cell_type": "code",
   "execution_count": 10,
   "id": "b2f9373e-4956-4071-be87-288f39adaf43",
   "metadata": {},
   "outputs": [],
   "source": [
    "import pandas as pd"
   ]
  },
  {
   "cell_type": "code",
   "execution_count": 11,
   "id": "810fda89-9fc9-4c01-8535-dc15aa1c7b79",
   "metadata": {},
   "outputs": [],
   "source": [
    "filepath = '../data/raw/year-month-circle-and-service-provider-wise-number-of-subscriptions-to-wireline-and-wireless-telecom-services-in-india.csv'\n",
    "df = pd.read_csv(filepath, dtype={5: str})  # or float, int, etc."
   ]
  },
  {
   "cell_type": "code",
   "execution_count": 12,
   "id": "0c54fcf4-9076-4afd-9e61-bb22fb14b4b9",
   "metadata": {},
   "outputs": [
    {
     "data": {
      "text/html": [
       "<div>\n",
       "<style scoped>\n",
       "    .dataframe tbody tr th:only-of-type {\n",
       "        vertical-align: middle;\n",
       "    }\n",
       "\n",
       "    .dataframe tbody tr th {\n",
       "        vertical-align: top;\n",
       "    }\n",
       "\n",
       "    .dataframe thead th {\n",
       "        text-align: right;\n",
       "    }\n",
       "</style>\n",
       "<table border=\"1\" class=\"dataframe\">\n",
       "  <thead>\n",
       "    <tr style=\"text-align: right;\">\n",
       "      <th></th>\n",
       "      <th>year</th>\n",
       "      <th>month</th>\n",
       "      <th>circle</th>\n",
       "      <th>type_of_connection</th>\n",
       "      <th>service_provider</th>\n",
       "      <th>value</th>\n",
       "      <th>unit</th>\n",
       "      <th>notes</th>\n",
       "    </tr>\n",
       "  </thead>\n",
       "  <tbody>\n",
       "    <tr>\n",
       "      <th>0</th>\n",
       "      <td>2025</td>\n",
       "      <td>April</td>\n",
       "      <td>Andhra Pradesh</td>\n",
       "      <td>wireless</td>\n",
       "      <td>Bharti Airtel (Including Tata Tele.)</td>\n",
       "      <td>33965795</td>\n",
       "      <td>value in absolute number</td>\n",
       "      <td>NaN</td>\n",
       "    </tr>\n",
       "    <tr>\n",
       "      <th>1</th>\n",
       "      <td>2025</td>\n",
       "      <td>April</td>\n",
       "      <td>Assam</td>\n",
       "      <td>wireless</td>\n",
       "      <td>Bharti Airtel (Including Tata Tele.)</td>\n",
       "      <td>12314102</td>\n",
       "      <td>value in absolute number</td>\n",
       "      <td>NaN</td>\n",
       "    </tr>\n",
       "    <tr>\n",
       "      <th>2</th>\n",
       "      <td>2025</td>\n",
       "      <td>April</td>\n",
       "      <td>Bihar</td>\n",
       "      <td>wireless</td>\n",
       "      <td>Bharti Airtel (Including Tata Tele.)</td>\n",
       "      <td>40967773</td>\n",
       "      <td>value in absolute number</td>\n",
       "      <td>NaN</td>\n",
       "    </tr>\n",
       "    <tr>\n",
       "      <th>3</th>\n",
       "      <td>2025</td>\n",
       "      <td>April</td>\n",
       "      <td>Delhi</td>\n",
       "      <td>wireless</td>\n",
       "      <td>Bharti Airtel (Including Tata Tele.)</td>\n",
       "      <td>18877637</td>\n",
       "      <td>value in absolute number</td>\n",
       "      <td>NaN</td>\n",
       "    </tr>\n",
       "    <tr>\n",
       "      <th>4</th>\n",
       "      <td>2025</td>\n",
       "      <td>April</td>\n",
       "      <td>Gujarat</td>\n",
       "      <td>wireless</td>\n",
       "      <td>Bharti Airtel (Including Tata Tele.)</td>\n",
       "      <td>12401101</td>\n",
       "      <td>value in absolute number</td>\n",
       "      <td>NaN</td>\n",
       "    </tr>\n",
       "  </tbody>\n",
       "</table>\n",
       "</div>"
      ],
      "text/plain": [
       "   year  month          circle type_of_connection  \\\n",
       "0  2025  April  Andhra Pradesh           wireless   \n",
       "1  2025  April           Assam           wireless   \n",
       "2  2025  April           Bihar           wireless   \n",
       "3  2025  April           Delhi           wireless   \n",
       "4  2025  April         Gujarat           wireless   \n",
       "\n",
       "                       service_provider     value                      unit  \\\n",
       "0  Bharti Airtel (Including Tata Tele.)  33965795  value in absolute number   \n",
       "1  Bharti Airtel (Including Tata Tele.)  12314102  value in absolute number   \n",
       "2  Bharti Airtel (Including Tata Tele.)  40967773  value in absolute number   \n",
       "3  Bharti Airtel (Including Tata Tele.)  18877637  value in absolute number   \n",
       "4  Bharti Airtel (Including Tata Tele.)  12401101  value in absolute number   \n",
       "\n",
       "  notes  \n",
       "0   NaN  \n",
       "1   NaN  \n",
       "2   NaN  \n",
       "3   NaN  \n",
       "4   NaN  "
      ]
     },
     "execution_count": 12,
     "metadata": {},
     "output_type": "execute_result"
    }
   ],
   "source": [
    "df.head()"
   ]
  },
  {
   "cell_type": "code",
   "execution_count": 13,
   "id": "c3803ac2-3ad9-42e0-ad31-52fd08c57096",
   "metadata": {},
   "outputs": [
    {
     "data": {
      "text/plain": [
       "notes\n",
       "service_provide: M/s Etisalat, S Tel and Loop (except for Mumbai circle) have submitted that there are no active subscribers on their network hence their figures have been taken as Zero.    69\n",
       "service_provide: Due to non-submission of data for March, 2012, the figures for M/s Etisalat and M/s Loop (except Mumbai) are taken as on February 2012.                                      69\n",
       "service_provider: License of M/s Loop Mobile has been expired on 29.11.2014.                                                                                                                  23\n",
       "service_provider: The subscriber figures of S Tel are taken as on January 2012, due to non-submission of information for Feb-2012.                                                            23\n",
       "value: Feb-2010 figure, since corrected by Sistema.                                                                                                                                           23\n",
       "                                                                                                                                                                                              ..\n",
       "service_provider: FTTH Voice-connections have also been incorporated from the month of May 2056                                                                                                1\n",
       "service_provider: FTTH Voice-connections have also been incorporated from the month of May 2057                                                                                                1\n",
       "service_provider: FTTH Voice-connections have also been incorporated from the month of May 2058                                                                                                1\n",
       "service_provider: FTTH Voice-connections have also been incorporated from the month of May 2059                                                                                                1\n",
       "service_provider: FTTH Voice-connections have also been incorporated from the month of May 2060                                                                                                1\n",
       "Name: count, Length: 69, dtype: int64"
      ]
     },
     "execution_count": 13,
     "metadata": {},
     "output_type": "execute_result"
    }
   ],
   "source": [
    "df.notes.value_counts()"
   ]
  },
  {
   "cell_type": "code",
   "execution_count": 14,
   "id": "cd558ced-d922-42e9-8693-2c423c30065a",
   "metadata": {},
   "outputs": [
    {
     "data": {
      "text/plain": [
       "service_provider\n",
       "BSNL                                                 8650\n",
       "Bharti Airtel                                        7391\n",
       "Reliance Communications                              5997\n",
       "MTNL                                                 5647\n",
       "Vodafone                                             4064\n",
       "Reliance Jio                                         3772\n",
       "Vodafone Idea                                        3325\n",
       "Tata Teleservices                                    2936\n",
       "Idea                                                 2682\n",
       "Sistema                                              2577\n",
       "Tata                                                 2533\n",
       "Reliance                                             2490\n",
       "Quadrant                                             1862\n",
       "Aircel                                               1843\n",
       "Videocon                                             1748\n",
       "BSNL (VNOs)                                          1729\n",
       "Tata Telecommunication                               1405\n",
       "Loop                                                 1357\n",
       "S-Tel                                                 830\n",
       "Aircel/Dishnet                                        805\n",
       "Telenor                                               759\n",
       "HFCL                                                  754\n",
       "Uninor                                                646\n",
       "Telewings                                             506\n",
       "Bharti Airtel (Including Tata Tele.)                  460\n",
       "Unitech                                               437\n",
       "Quadrant (HFCL)                                       392\n",
       "Etisalat                                              391\n",
       "Etisalat/Allianz                                      368\n",
       "APSFL                                                 368\n",
       "HFCL Infotel                                          343\n",
       "Vodafone Essar                                        337\n",
       "Sistema Shyam Teleservices Ltd                        313\n",
       "V-CON Mobile & Infra Pvt. Ltd.                        253\n",
       "Loop Telecom Pvt. Ltd.                                250\n",
       "Spice                                                 193\n",
       "STPL                                                  115\n",
       "BPL Mobile                                             87\n",
       "Idea/Spice                                             47\n",
       "Bharti Airtel (including Tata Telecommunications)      46\n",
       "Systema Shyam Teleservices Ltd.                        16\n",
       "Teleservice Ltd.                                        4\n",
       "Name: count, dtype: int64"
      ]
     },
     "execution_count": 14,
     "metadata": {},
     "output_type": "execute_result"
    }
   ],
   "source": [
    "df.service_provider.value_counts()"
   ]
  },
  {
   "cell_type": "code",
   "execution_count": 15,
   "id": "e72f27c9-990f-466d-a84b-c7472b4cd3eb",
   "metadata": {},
   "outputs": [
    {
     "data": {
      "text/plain": [
       "year\n",
       "2009    4774\n",
       "2010    5371\n",
       "2011    5193\n",
       "2012    5734\n",
       "2013    4844\n",
       "2014    4857\n",
       "2015    4584\n",
       "2016    4511\n",
       "2017    4180\n",
       "2018    3673\n",
       "2019    3417\n",
       "2020    3498\n",
       "2021    3554\n",
       "2022    3706\n",
       "2023    2668\n",
       "2024    4692\n",
       "2025    1472\n",
       "Name: count, dtype: int64"
      ]
     },
     "execution_count": 15,
     "metadata": {},
     "output_type": "execute_result"
    }
   ],
   "source": [
    "df.year.value_counts().sort_index()"
   ]
  },
  {
   "cell_type": "code",
   "execution_count": 16,
   "id": "e1c5261c-aa97-454a-bbcf-26c83c7202cd",
   "metadata": {},
   "outputs": [
    {
     "data": {
      "text/plain": [
       "type_of_connection\n",
       "wireless    47465\n",
       "wireline    23263\n",
       "Name: count, dtype: int64"
      ]
     },
     "execution_count": 16,
     "metadata": {},
     "output_type": "execute_result"
    }
   ],
   "source": [
    "df.type_of_connection.value_counts()"
   ]
  },
  {
   "cell_type": "code",
   "execution_count": 17,
   "id": "a1cf38e0-bab7-4123-9ff9-6b6f47f96901",
   "metadata": {},
   "outputs": [
    {
     "data": {
      "text/plain": [
       "unit\n",
       "value in absolute number    70728\n",
       "Name: count, dtype: int64"
      ]
     },
     "execution_count": 17,
     "metadata": {},
     "output_type": "execute_result"
    }
   ],
   "source": [
    "df.unit.value_counts()"
   ]
  },
  {
   "cell_type": "code",
   "execution_count": 18,
   "id": "18ab0132-2030-488a-8cf4-083c7c6216ed",
   "metadata": {},
   "outputs": [
    {
     "data": {
      "text/plain": [
       "38"
      ]
     },
     "execution_count": 18,
     "metadata": {},
     "output_type": "execute_result"
    }
   ],
   "source": [
    "df.circle.nunique()"
   ]
  },
  {
   "cell_type": "code",
   "execution_count": null,
   "id": "7db6ceda-f156-4d46-8028-ba67e98d004d",
   "metadata": {},
   "outputs": [],
   "source": []
  }
 ],
 "metadata": {
  "kernelspec": {
   "display_name": "Python 3",
   "language": "python",
   "name": "python3"
  },
  "language_info": {
   "codemirror_mode": {
    "name": "ipython",
    "version": 3
   },
   "file_extension": ".py",
   "mimetype": "text/x-python",
   "name": "python",
   "nbconvert_exporter": "python",
   "pygments_lexer": "ipython3",
   "version": "3.13.0"
  }
 },
 "nbformat": 4,
 "nbformat_minor": 5
}
